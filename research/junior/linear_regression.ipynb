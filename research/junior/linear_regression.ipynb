{
 "cells": [
  {
   "cell_type": "markdown",
   "id": "16581252-fbba-45c5-9d6e-0fa883ac539f",
   "metadata": {},
   "source": [
    "# REGRESSÃO LINEAR"
   ]
  },
  {
   "cell_type": "markdown",
   "id": "f2fdfaad-32d6-4b82-8f9e-af1b464bbba8",
   "metadata": {
    "jp-MarkdownHeadingCollapsed": true
   },
   "source": [
    "# DEFINIÇÕES"
   ]
  },
  {
   "cell_type": "markdown",
   "id": "a183dd77-ff49-496d-9a93-a6c0ddbed261",
   "metadata": {},
   "source": [
    "**TEORIA**\n",
    "* Previsão de uma variável numérica (_variável independente/alvo_) com base no valor de uma (_regressão linear simples_) ou mais (_regressão linear múltipla_) variáveis (_variáveis independentes/preditoras_)"
   ]
  },
  {
   "cell_type": "markdown",
   "id": "e5e42061-a727-45a0-86b4-097f2d729ffb",
   "metadata": {},
   "source": [
    "\n",
    "**EXPRESSÃO MATEMÁTICA**\n",
    "* $ y = \\alpha + \\beta * X_{i} + \\epsilon _{i} $\n",
    "    * $ y $: variável dependente\n",
    "    * $ X_{i} $: variável independente\n",
    "    * $ \\alpha $: constante referente à interceptação da reta com o eixo vertical\n",
    "    * $ \\beta $: _coeficiente linear_ referente à inclinição da reta em relação à variável independente\n",
    "    * $ \\epsilon _{i} $: valores residuais\n",
    "* O ajuste da função busca encontrar os valores de $ \\alpha $ e $ \\beta $, sendo o valor de $ \\epsilon $ referente à possíveis erros e desvios"
   ]
  },
  {
   "cell_type": "markdown",
   "id": "6a638b5d-748e-43bd-bf36-9377ffde29c7",
   "metadata": {},
   "source": [
    "**VISUALIZAÇÃO**\n",
    "* Regressão linear simples: a expressão matemática é representada por uma _linha reta_\n",
    "* Regressão linear múltipla: a expressão matemática é representada por uma _superfície plana_ n-dimensional"
   ]
  },
  {
   "cell_type": "markdown",
   "id": "fa8c9b7d-2dd5-4120-9d0f-c0039892cdbc",
   "metadata": {},
   "source": [
    "**QUANDO UTILIZAR**\n",
    "* Linearidade: há relação linear, de moderada a muito forte, entre a variável dependente e a(s) variável(eis) independente(s)\n",
    "* Homogeneidade da variância: a variância é constante/homogênea em todo o conjunto da amostra, sendo independente dos valores das variáveis independentes\n",
    "* Multicolinearidade e Independência dos erros: as variáveis independentes, bem como seus erros, não devem ser colineares (correlacionadas)\n",
    "\n",
    "|            Valor            |  Correlação |\n",
    "|-----------------------------|-------------|\n",
    "|     0.00 - $ \\pm $ 0.19     | Muito fraca |\n",
    "| $ \\pm $ 0.20 - $ \\pm $ 0.39 |    Fraca    |\n",
    "| $ \\pm $ 0.40 - $ \\pm $ 0.69 |   Moderada  |\n",
    "| $ \\pm $ 0.70 - $ \\pm $ 0.89 |    Forte    |\n",
    "| $ \\pm $ 0.90 - $ \\pm $ 1.00 | Muito forte |\n"
   ]
  },
  {
   "cell_type": "markdown",
   "id": "22bc2119-7280-45d2-8bd7-4294866d6e70",
   "metadata": {},
   "source": [
    "**AVALIAÇÃO DO MODELO**\n",
    "* Independência residual: espera-se uma _distribuição normal_ dos resíduos (sem padrão identificável). É possível usar testes matemáticas, como Durbin-Watson, para determinar a independência residual\n",
    "* SQR (Soma dos Quadrados dos Resíduos): variação da variável dependente que não é explicada pelo modelo\n",
    "    * $ SQR = \\sum_{i=1}^{n} e_{i}^{2} = \\sum_{i=1}^{n} (y_{i} - \\hat y)^{2} $\n",
    "* $ R^2 $: coeficiente de determinação, ou coeficiente de determinação múltiplica para a regressão linear múltipla, que descreve o percentual do modelo capaz de explicar a variação dos dados observados\n",
    "* MAE (Erro Médio Absoluto): média dos resíduos de todos os pontos ajustados\n",
    "    * $ MAE = \\frac{1}{n} \\sum |y - \\hat y| $\n",
    "* MSE (Média dos Erros ao Quadrado): média do quadrado dos resíduos de todos os pontos ajustados\n",
    "    * $ MAE = \\frac{1}{n} \\sum (y - \\hat y)^2 $"
   ]
  },
  {
   "cell_type": "markdown",
   "id": "9d946f1e-d4bc-4fb8-8e84-4338128f25b9",
   "metadata": {
    "jp-MarkdownHeadingCollapsed": true
   },
   "source": [
    "# MACHINE LEARNING"
   ]
  },
  {
   "cell_type": "markdown",
   "id": "44c94929-e56c-40cd-9694-ba49c7924223",
   "metadata": {},
   "source": [
    "**MODELO DE APRENDIZADO**\n",
    "* Modelo de aprendizado supervisionado"
   ]
  },
  {
   "cell_type": "markdown",
   "id": "ec8db956-40c8-48a5-b585-414f3a8ad6e6",
   "metadata": {},
   "source": [
    "**BIBLIOTECAS E PACOTES**\n",
    "```python\n",
    "sklearn.linear_model.LinearRegression(\n",
    "    fit_intercept=True,\n",
    "    copy_X=True,\n",
    "    n_jobs=None,\n",
    "    positive=False\n",
    ")\n",
    "```"
   ]
  },
  {
   "cell_type": "markdown",
   "id": "c3d0731a-d672-4130-adf2-6285d40f84af",
   "metadata": {},
   "source": [
    "**PARÂMETROS**\n",
    "* *fit_intercept*:\n",
    "* *copy_X*:\n",
    "* *n_jobs*: parâmetro int para decisão de quantos job serão realizados no processamento (_n_jobs = -1_ utiliza todos os processadores)\n",
    "* *positive*: parâmetro bool para decisão se todos os coeficientes devem ou não serem positivos"
   ]
  },
  {
   "cell_type": "markdown",
   "id": "ae6737f9-e53d-4e0b-bd3d-368812395cb4",
   "metadata": {},
   "source": [
    "**ATRIBUTOS**\n",
    "* *coef_*:\n",
    "* *rank_*:\n",
    "* *singular_*:\n",
    "* *intercept_*:\n",
    "* *n_features_in_*:\n",
    "* *feature_names_in_*:"
   ]
  },
  {
   "cell_type": "markdown",
   "id": "d3403733-22cc-4cf5-9885-916f1442d6c1",
   "metadata": {},
   "source": [
    "**MÉTODOS**\n",
    "* *fit()*: realiza o treinamento para criação do modelo\n",
    "* *get_params()*: retorna os parâmetros do modelo criado\n",
    "* *predict()*: realiza o ajuste do modelo\n",
    "* *score()*: retorna o coeficiente de determinação ($ R^2 $) do modelo ajustado\n",
    "* *set_params()*: permite a definição dos parâmetros utilizados para ajuste do modelo"
   ]
  },
  {
   "cell_type": "markdown",
   "id": "5c6e45b3-fe8b-45ed-a73e-50064e38789d",
   "metadata": {},
   "source": [
    "# IMPLEMENTAÇÃO"
   ]
  }
 ],
 "metadata": {
  "kernelspec": {
   "display_name": "kernelDump",
   "language": "python",
   "name": "kerneldump"
  },
  "language_info": {
   "codemirror_mode": {
    "name": "ipython",
    "version": 3
   },
   "file_extension": ".py",
   "mimetype": "text/x-python",
   "name": "python",
   "nbconvert_exporter": "python",
   "pygments_lexer": "ipython3",
   "version": "3.8.10"
  }
 },
 "nbformat": 4,
 "nbformat_minor": 5
}
