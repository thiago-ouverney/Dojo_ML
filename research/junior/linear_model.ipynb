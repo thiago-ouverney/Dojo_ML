{
 "cells": [
  {
   "cell_type": "markdown",
   "id": "af1221d2-85d9-4e7a-8c18-6d0921d9bdc8",
   "metadata": {
    "jp-MarkdownHeadingCollapsed": true
   },
   "source": [
    "# Modelos Lineares"
   ]
  },
  {
   "cell_type": "markdown",
   "id": "1eb2628c-678a-4f22-8112-e84605977465",
   "metadata": {},
   "source": [
    "**DEFINIÇÃO**  \n",
    "Modelos de regressão onde a variável alvo (*variável independente*) pode ser expressa como uma combinação linear das variáveis preditoras (*variáveis independentes*), na forma:  \n",
    "$$\\hat y(\\omega _{i}, x_{i}) = \\omega _{0} + \\sum _{i=1}^{n} \\omega _{i} x_{i}$$"
   ]
  },
  {
   "cell_type": "markdown",
   "id": "16581252-fbba-45c5-9d6e-0fa883ac539f",
   "metadata": {
    "jp-MarkdownHeadingCollapsed": true
   },
   "source": [
    "# Mínimos Quadrados Ordinários"
   ]
  },
  {
   "cell_type": "markdown",
   "id": "57d1bdb0-0060-45f8-beb3-2c9978575d8b",
   "metadata": {},
   "source": [
    "**DEFINIÇÃO**  \n",
    "Métodologia para cálculo dos coeficientes de uma regressão linear a partir da otimização do quadrado dos erros (SQE)"
   ]
  },
  {
   "cell_type": "markdown",
   "id": "a40449e4-2a9b-4f7c-8a97-d66c076f3f40",
   "metadata": {},
   "source": [
    "**PRESSUPOSTOS**  \n",
    "Regressores exógenos: para evitar o viés dos coeficientes  \n",
    "Homocedasticidade: variância constante  \n",
    "Observações não correlacionadas: evitar autocorrelação na variável alvo"
   ]
  },
  {
   "cell_type": "markdown",
   "id": "6dc82b22-9727-4369-960d-c6f5c8ac45db",
   "metadata": {},
   "source": [
    "**DEMONSTRAÇÃO (REGRESSÃO LINEAR SIMPLES)**  \n",
    "Data uma base de dados com $n$ instâncias do tipo $(x_{i}, y_{i})$, é possível ajustar uma reta do tipo:\n",
    "$$\\hat y(\\hat x) = a + b \\hat x$$  \n",
    "A distância entre o i-ésimo ponto e a reta ajustada pelo demolo pode ser calculada a partir da expressão:  \n",
    "$$u_{i} = \\sqrt{(y_{i} - y)^2 + (x_{i} - x)^2}$$  \n",
    "$$u_{i}^2 = (y_{i} - y)^2 + (x_{i} - x)^2$$  \n",
    "Utilizando o pressuposto de *regressores exógenos* temos $x_{i} = x$, e portanto o quadrado da distância é dada por:  \n",
    "$$u_{i}^2 = (y_{i} - y)^2$$  \n",
    "Sendo $u_{i}$ definido como o resíduo do modelo ajustado. Uma vez que sabemos qual é a equação da reta ajustada, podemos escrever:  \n",
    "$$u_{i}^2 = (y_{i} - a - b*x_{i})^2$$  \n",
    "Definimos o método de mínimos quadrados como uma função dos coeficientes capaz de minimizar o quadrado dos resíduos, na forma:  \n",
    "$$F(u) = \\sum _{i}^{n} u_{i}^{2}$$  \n",
    "$$F(a, b) = \\sum _{i}^{n} (y_{i} - a - b*x_{i})^2$$  \n",
    "Na tentativa de encontrar os pontos críticas dessa função, fazemos a derivada parcial em relação aos coeficientes, na forma:  \n",
    "$$\\frac{\\partial F}{\\partial a} = 2 \\sum _{i}^{n} (y_{i} - a - b*x_{i})$$  \n",
    "$$\\frac{\\partial F}{\\partial b} = 2 \\sum _{i}^{n} x_{i}*(y_{i} - a - b*x_{i})$$  \n",
    "Com a definição dos pontos críticos, buscamos os valores de mínimo igualando os resultados das derivadas parciais a zero, iniciando pelo resultado da derivada em $a$:  \n",
    "$$2 \\sum _{i}^{n} (y_{i} - a - b*x_{i}) = 0$$  \n",
    "$$\\frac{2 \\sum _{i}^{n} (y_{i} - a - b*x_{i})}{2n} = \\frac{0}{2n}$$  \n",
    "$$\\bar y - a - b* \\bar x = 0$$  \n",
    "$$\\color{red}{a = \\bar y - b* \\bar x}$$  \n",
    "Para o resultado da derivada em $b$ e utilizando a expressão destacada:\n",
    "$$2 \\sum _{i}^{n} x_{i}*(y_{i} - a - b*x_{i}) = 0$$  \n",
    "$$2 \\sum _{i}^{n} x_{i}*(y_{i} - \\bar y + b* \\bar x - b*x_{i}) = 0$$  \n",
    "$$\\sum _{i}^{n} x_{i}*(y_{i} - \\bar y) - b* \\sum _{i}^{n} x_{i}*(x_{i} - \\bar x) = 0$$  \n",
    "$$\\color{red}{b = \\frac{\\sum _{i}^{n} x_{i}*(y_{i} - \\bar y)}{\\sum _{i}^{n} x_{i}*(x_{i} - \\bar x)} = \\frac{\\sum _{i}^{n} (x_{i} - \\bar x)*(y_{i} - \\bar y)}{\\sum _{i}^{n} (x_{i} - \\bar x)^2}}$$ "
   ]
  },
  {
   "cell_type": "markdown",
   "id": "504da43e-0f13-4520-a8ca-dfd5a54b1d14",
   "metadata": {},
   "source": [
    "**DEMONSTRAÇÃO (REGRESSÃO LINEAR MÚLTIPLA)**  \n",
    "Dada a expressão referente a um ajuste linear n-dimensional:  \n",
    "$$\\hat y(\\omega _{i}, x_{i}) = \\omega _{0} + \\sum _{i=1}^{n} \\omega _{i} x_{i} + \\sum _{i=1}^{n} u_{i}$$  \n",
    "Pode-se escrever utilizando um formato matricial como:  \n",
    "$$\\begin{bmatrix} y_{1} \\\\ y_{2} \\\\ ... \\\\ y_{j} \\end{bmatrix} = \\begin{bmatrix} 1 & x_{11} & x_{12} & ... & x_{1j} \\\\ 1 & x_{21} & x_{22} & ... & x_{2j} \\\\ ... & ... & ... & ... & ... \\\\ 1 & x_{i1} & x_{i2} & ... & x_{ij} \\end{bmatrix} * \\begin{bmatrix} \\omega_{1} \\\\ \\omega_{2} \\\\ ... \\\\ \\omega_{i} \\end{bmatrix} + \\begin{bmatrix} u_{1} \\\\ u_{2} \\\\ ... \\\\ u_{j} \\end{bmatrix}$$  \n",
    "Ou, na notação reduzida:  \n",
    "$$y = X*\\omega + u$$. \n",
    "Seguindo o método dos mínimos quadrados, criando uma função para minimização dos resíduos, temos:  \n",
    "$$F(u) = \\sum _{i}^{n} u_{i}^{2}$$  \n",
    "$$F(\\omega) = (y - X*\\omega)^{T}(y - X*\\omega)$$  \n",
    "$$F(\\omega) = y^{T}y - y^{T}X\\omega - \\omega^{T}X^{T}y + \\omega^{T}X^{T}X\\omega$$  \n",
    "$$F(\\omega) = y^{T}y - 2\\omega^{T}X^{T}y + X^{T}X\\omega^2$$  \n",
    "Buscando o ponto crítico da função, realizaremos a derivada em função do coeficiente $\\omega$:  \n",
    "$$\\frac{\\partial F}{\\partial \\omega} = - 2X^{T}y + 2X^{T}X\\omega$$  \n",
    "Igualando o resultado da derivada parcial a zero encontramos o valor do coeficiente para obtenção do valor mínimo do quadrado do resíduo, na forma:\n",
    "$$- 2X^{T}y + 2X^{T}X\\omega = 0$$  \n",
    "$$\\color{red}{\\omega = (X^{T}X)^{-1}(X^{T}y)}$$"
   ]
  },
  {
   "cell_type": "code",
   "execution_count": null,
   "id": "5b5f9c21-20be-4f04-8492-310826a81bc1",
   "metadata": {},
   "outputs": [],
   "source": []
  },
  {
   "cell_type": "code",
   "execution_count": null,
   "id": "b8afa637-137e-430d-8d80-6bf4d5bdd44e",
   "metadata": {},
   "outputs": [],
   "source": []
  },
  {
   "cell_type": "code",
   "execution_count": null,
   "id": "9a43c066-ca47-450a-adf3-3f1d3a3908a6",
   "metadata": {},
   "outputs": [],
   "source": []
  },
  {
   "cell_type": "code",
   "execution_count": null,
   "id": "dcf3b426-d25d-4946-bbca-c69f0ffe9d0d",
   "metadata": {},
   "outputs": [],
   "source": []
  },
  {
   "cell_type": "code",
   "execution_count": null,
   "id": "5f39dbac-28c8-41fc-a09a-78b910edc69f",
   "metadata": {},
   "outputs": [],
   "source": []
  },
  {
   "cell_type": "code",
   "execution_count": null,
   "id": "b0dcd0a1-fa6d-4b9f-96dd-260416799f3c",
   "metadata": {},
   "outputs": [],
   "source": []
  },
  {
   "cell_type": "code",
   "execution_count": null,
   "id": "0e9f9d6c-83d0-4cae-a517-4456843c781f",
   "metadata": {},
   "outputs": [],
   "source": []
  },
  {
   "cell_type": "code",
   "execution_count": null,
   "id": "d9a3e09b-23b2-4664-8ea0-85767fdc9b8a",
   "metadata": {},
   "outputs": [],
   "source": []
  },
  {
   "cell_type": "code",
   "execution_count": null,
   "id": "1bf43544-6109-4c97-b5f4-645fa6848eea",
   "metadata": {},
   "outputs": [],
   "source": []
  },
  {
   "cell_type": "code",
   "execution_count": null,
   "id": "b02207d2-1d16-4102-bb4f-609bc9a1d7d6",
   "metadata": {},
   "outputs": [],
   "source": []
  },
  {
   "cell_type": "code",
   "execution_count": null,
   "id": "07cc9016-069d-44e8-be4c-b88f8a5a970a",
   "metadata": {},
   "outputs": [],
   "source": []
  },
  {
   "cell_type": "code",
   "execution_count": null,
   "id": "88711c35-2766-489c-b8ad-8874cb24ccc2",
   "metadata": {},
   "outputs": [],
   "source": []
  }
 ],
 "metadata": {
  "kernelspec": {
   "display_name": "kernelDump",
   "language": "python",
   "name": "kerneldump"
  },
  "language_info": {
   "codemirror_mode": {
    "name": "ipython",
    "version": 3
   },
   "file_extension": ".py",
   "mimetype": "text/x-python",
   "name": "python",
   "nbconvert_exporter": "python",
   "pygments_lexer": "ipython3",
   "version": "3.8.10"
  }
 },
 "nbformat": 4,
 "nbformat_minor": 5
}
